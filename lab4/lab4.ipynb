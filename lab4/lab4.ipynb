{
 "cells": [
  {
   "cell_type": "code",
   "execution_count": 1,
   "metadata": {},
   "outputs": [],
   "source": [
    "import pandas as pd\n",
    "import numpy as np\n",
    "from sklearn.ensemble import RandomForestClassifier\n",
    "from sklearn.linear_model import LogisticRegression\n",
    "from sklearn.ensemble import GradientBoostingClassifier\n",
    "from sklearn.ensemble import AdaBoostClassifier\n",
    "from sklearn.metrics import roc_auc_score\n",
    "import matplotlib.pyplot as plt"
   ]
  },
  {
   "cell_type": "markdown",
   "metadata": {},
   "source": [
    "***\n",
    "<h4>1. Wczytaj końcowe i przetworzone zbiory danych z zajęć Lab3.</h4>"
   ]
  },
  {
   "cell_type": "code",
   "execution_count": 2,
   "metadata": {},
   "outputs": [],
   "source": [
    "x_train = pd.read_csv(\"x_train.csv\")\n",
    "x_test = pd.read_csv(\"x_test.csv\")\n",
    "y_train = pd.read_csv(\"y_train.csv\")\n",
    "y_test = pd.read_csv(\"y_test.csv\")"
   ]
  },
  {
   "cell_type": "code",
   "execution_count": 3,
   "metadata": {},
   "outputs": [
    {
     "data": {
      "text/html": [
       "<div>\n",
       "<style scoped>\n",
       "    .dataframe tbody tr th:only-of-type {\n",
       "        vertical-align: middle;\n",
       "    }\n",
       "\n",
       "    .dataframe tbody tr th {\n",
       "        vertical-align: top;\n",
       "    }\n",
       "\n",
       "    .dataframe thead th {\n",
       "        text-align: right;\n",
       "    }\n",
       "</style>\n",
       "<table border=\"1\" class=\"dataframe\">\n",
       "  <thead>\n",
       "    <tr style=\"text-align: right;\">\n",
       "      <th></th>\n",
       "      <th>cabin</th>\n",
       "      <th>CabinReduced</th>\n",
       "      <th>sex</th>\n",
       "      <th>cabin_map</th>\n",
       "      <th>CabinReduced_map</th>\n",
       "      <th>sex_map</th>\n",
       "    </tr>\n",
       "  </thead>\n",
       "  <tbody>\n",
       "    <tr>\n",
       "      <th>0</th>\n",
       "      <td>NaN</td>\n",
       "      <td>NaN</td>\n",
       "      <td>female</td>\n",
       "      <td>6</td>\n",
       "      <td>5</td>\n",
       "      <td>0</td>\n",
       "    </tr>\n",
       "    <tr>\n",
       "      <th>1</th>\n",
       "      <td>NaN</td>\n",
       "      <td>NaN</td>\n",
       "      <td>female</td>\n",
       "      <td>6</td>\n",
       "      <td>5</td>\n",
       "      <td>0</td>\n",
       "    </tr>\n",
       "    <tr>\n",
       "      <th>2</th>\n",
       "      <td>NaN</td>\n",
       "      <td>NaN</td>\n",
       "      <td>female</td>\n",
       "      <td>6</td>\n",
       "      <td>5</td>\n",
       "      <td>0</td>\n",
       "    </tr>\n",
       "    <tr>\n",
       "      <th>3</th>\n",
       "      <td>NaN</td>\n",
       "      <td>NaN</td>\n",
       "      <td>male</td>\n",
       "      <td>6</td>\n",
       "      <td>5</td>\n",
       "      <td>1</td>\n",
       "    </tr>\n",
       "    <tr>\n",
       "      <th>4</th>\n",
       "      <td>NaN</td>\n",
       "      <td>NaN</td>\n",
       "      <td>female</td>\n",
       "      <td>6</td>\n",
       "      <td>5</td>\n",
       "      <td>0</td>\n",
       "    </tr>\n",
       "  </tbody>\n",
       "</table>\n",
       "</div>"
      ],
      "text/plain": [
       "  cabin CabinReduced     sex  cabin_map  CabinReduced_map  sex_map\n",
       "0   NaN          NaN  female          6                 5        0\n",
       "1   NaN          NaN  female          6                 5        0\n",
       "2   NaN          NaN  female          6                 5        0\n",
       "3   NaN          NaN    male          6                 5        1\n",
       "4   NaN          NaN  female          6                 5        0"
      ]
     },
     "execution_count": 3,
     "metadata": {},
     "output_type": "execute_result"
    }
   ],
   "source": [
    "x_train.head(5)"
   ]
  },
  {
   "cell_type": "code",
   "execution_count": 4,
   "metadata": {},
   "outputs": [
    {
     "data": {
      "text/html": [
       "<div>\n",
       "<style scoped>\n",
       "    .dataframe tbody tr th:only-of-type {\n",
       "        vertical-align: middle;\n",
       "    }\n",
       "\n",
       "    .dataframe tbody tr th {\n",
       "        vertical-align: top;\n",
       "    }\n",
       "\n",
       "    .dataframe thead th {\n",
       "        text-align: right;\n",
       "    }\n",
       "</style>\n",
       "<table border=\"1\" class=\"dataframe\">\n",
       "  <thead>\n",
       "    <tr style=\"text-align: right;\">\n",
       "      <th></th>\n",
       "      <th>survived</th>\n",
       "    </tr>\n",
       "  </thead>\n",
       "  <tbody>\n",
       "    <tr>\n",
       "      <th>0</th>\n",
       "      <td>0</td>\n",
       "    </tr>\n",
       "    <tr>\n",
       "      <th>1</th>\n",
       "      <td>1</td>\n",
       "    </tr>\n",
       "    <tr>\n",
       "      <th>2</th>\n",
       "      <td>0</td>\n",
       "    </tr>\n",
       "    <tr>\n",
       "      <th>3</th>\n",
       "      <td>0</td>\n",
       "    </tr>\n",
       "    <tr>\n",
       "      <th>4</th>\n",
       "      <td>0</td>\n",
       "    </tr>\n",
       "  </tbody>\n",
       "</table>\n",
       "</div>"
      ],
      "text/plain": [
       "   survived\n",
       "0         0\n",
       "1         1\n",
       "2         0\n",
       "3         0\n",
       "4         0"
      ]
     },
     "execution_count": 4,
     "metadata": {},
     "output_type": "execute_result"
    }
   ],
   "source": [
    "y_test.head(5)"
   ]
  },
  {
   "cell_type": "markdown",
   "metadata": {},
   "source": [
    "***\n",
    "<h4>2. Scharakteryzuj dany algorytm na podstawie informacji\n",
    "zawartej w dokumentacji biblioteki scikit-learn.</h4>"
   ]
  },
  {
   "cell_type": "markdown",
   "metadata": {},
   "source": [
    "<h5>2.1. RandomForestClassifier</h5>"
   ]
  },
  {
   "cell_type": "markdown",
   "metadata": {},
   "source": [
    "Jest to algorytm zbudowany z wielu klasyfikatorów - drzew decyzyjnych, z których kazde z drzew bodowane jest z losowego podzbioru z danych uczących - w przypadku jeśli zdecydujemy się na korzystanie z metody bootstrapowej, w innym wypadku do zbudowania kadego\n",
    "drzewa będzie uzywał całego zbioru uczącego. Wykorzystuje uśrednienianie, aby poprawić jakość predykcji. Dla danego zestawu cech wygrywa klasa, do której prowadziło najwięcej drzew.\n",
    "Wybrane parametry:\n",
    "* n_estimatorsint (default=100) - liczba drzew w lesie\n",
    "* max_depthint (default=None) - maksymalna głębokość drzewa\n",
    "* bootstrap (default=True) - decyduje czy będziemy korzystać z metody bootsrap\n",
    "* max_samples (int lub float, default=None) - jeśli korzytsamy z bootstrapu to decydujemy o maksymalnej liczbie próbek"
   ]
  },
  {
   "cell_type": "markdown",
   "metadata": {},
   "source": [
    "<h5>2.2. LogisticRegression</h5>"
   ]
  },
  {
   "cell_type": "markdown",
   "metadata": {},
   "source": [
    "Algorytm Regresji Logistycznej działaniem jest zblizony do regresji liniowej, ale wynikiem jego działania jest klasyfikacja binarna (0 lub 1) dlatego zmienn awynikowa musi mieć charakter dychotomiczny.\n",
    "Oblicza prawdopodobieństwo wystąpienia zdarzenia. Wykorzystywana jest funkcja sigmoidalna, która daje wynikowy wykres w kształcie litry 'S'.\n"
   ]
  },
  {
   "cell_type": "markdown",
   "metadata": {},
   "source": [
    "<h5>2.3. GradientBoostingClassifier</h5>"
   ]
  },
  {
   "cell_type": "markdown",
   "metadata": {},
   "source": [
    "Algorytm Gradient Boosting Classifier składa się z określonej przez parametr 'n_estimators' liczby drzew (domyślnie 100), gdzie drzewa uczone są jedno po drugim, tak aby następne uczyło się na błędach poprzednika - kazde kolejne drzewo dązy do zminimalizowania błędów popełnionych przez poprzednika.\n",
    "Algorytm jest odporny na overfitting, więc duza wartosc 'n_estimators' wpływa na poprawę wyników predykcji."
   ]
  },
  {
   "cell_type": "markdown",
   "metadata": {},
   "source": [
    "<h5>3.4. AdaBoostClassifier</h5>"
   ]
  },
  {
   "cell_type": "markdown",
   "metadata": {},
   "source": [
    "Algorytm AdaBoost Classifier w kolejnych iteracjach trenuje drzewa, a następnie porónuje otrzymane klasyfikacje oraz wybieramy najlepsze drzewo. Następnie aktualizujemy wagi, tak aby kolejne drzewo nie popełniło tych błędów co poprzednik. Jeśli doszło do błędnej kalsyfikacji - zwiększamy wagi dla próbek powiązanych z nimi, a jeśli do poprawnej klasyfikacji to zmniejszamy te wagi. Dzięki temu kolejne drzewa są lepiej dopasowane do danych.\n"
   ]
  },
  {
   "cell_type": "markdown",
   "metadata": {},
   "source": [
    "***\n",
    "<h4>3. Zbuduj, wytrenuj model oraz dokonaj predykcji używając podanych metod dla danych o wysokiej i niskiej liczbności cech</h4>"
   ]
  },
  {
   "cell_type": "markdown",
   "metadata": {},
   "source": [
    "<h5>3.1. RandomForestClassifier</h5> "
   ]
  },
  {
   "cell_type": "markdown",
   "metadata": {},
   "source": [
    "Dla danych o duzej liczebności"
   ]
  },
  {
   "cell_type": "code",
   "execution_count": 5,
   "metadata": {},
   "outputs": [],
   "source": [
    "RF = RandomForestClassifier(n_estimators=220, random_state=42)\n",
    "\n",
    "RF.fit(x_train[['cabin_map', 'sex_map']], np.ravel(y_train['survived']))\n",
    "\n",
    "# y_pred = RF.predict(x_test[['cabin_map', 'sex_map']])\n",
    "\n",
    "PredTrain = RF.predict_proba(x_train[['cabin_map', 'sex_map']])\n",
    "PredTest = RF.predict_proba(x_test[['cabin_map', 'sex_map']].fillna(0))\n",
    "\n",
    "test_RF_h = roc_auc_score(y_test,PredTest[:, 1])\n",
    "train_RF_h = roc_auc_score(y_train,PredTrain[:, 1])"
   ]
  },
  {
   "cell_type": "code",
   "execution_count": 6,
   "metadata": {},
   "outputs": [
    {
     "name": "stdout",
     "output_type": "stream",
     "text": [
      "Dane testowe: 0.7578812012609921\n",
      "Dane treningowe: 0.8529126140314686\n"
     ]
    }
   ],
   "source": [
    "print('Dane testowe: ' + str(test_RF_h))\n",
    "print('Dane treningowe: ' + str(train_RF_h))"
   ]
  },
  {
   "cell_type": "markdown",
   "metadata": {},
   "source": [
    "Dla danych o małej liczebności"
   ]
  },
  {
   "cell_type": "code",
   "execution_count": 7,
   "metadata": {},
   "outputs": [],
   "source": [
    "RF = RandomForestClassifier(n_estimators=220, random_state=42)\n",
    "\n",
    "RF.fit(x_train[['CabinReduced_map', 'sex_map']], y_train['survived'].values)\n",
    "\n",
    "y_pred = RF.predict(x_test[['CabinReduced_map', 'sex_map']])\n",
    "\n",
    "PredTrain = RF.predict_proba(x_train[['CabinReduced_map', 'sex_map']])\n",
    "PredTest = RF.predict_proba(x_test[['CabinReduced_map', 'sex_map']].fillna(0))\n",
    "\n",
    "test_RF_l = roc_auc_score(y_test,PredTest[:, 1])\n",
    "train_RF_l = roc_auc_score(y_train,PredTrain[:, 1])"
   ]
  },
  {
   "cell_type": "code",
   "execution_count": 8,
   "metadata": {},
   "outputs": [
    {
     "name": "stdout",
     "output_type": "stream",
     "text": [
      "Dane testowe: 0.8013245948786019\n",
      "Dane treningowe: 0.816719415917359\n"
     ]
    }
   ],
   "source": [
    "print('Dane testowe: ' + str(test_RF_l))\n",
    "print('Dane treningowe: ' + str(train_RF_l))"
   ]
  },
  {
   "cell_type": "markdown",
   "metadata": {},
   "source": [
    "<h5>3.2. LogisticRegression</h5>"
   ]
  },
  {
   "cell_type": "markdown",
   "metadata": {},
   "source": [
    "Dla danych o duzej liczebności"
   ]
  },
  {
   "cell_type": "code",
   "execution_count": 9,
   "metadata": {},
   "outputs": [],
   "source": [
    "LR = LogisticRegression()\n",
    "\n",
    "LR.fit(x_train[['cabin_map', 'sex_map']], y_train['survived'].values)\n",
    "\n",
    "PredTrain = LR.predict_proba(x_train[['cabin_map', 'sex_map']])\n",
    "PredTest = LR.predict_proba(x_test[['cabin_map', 'sex_map']].fillna(0))\n",
    "\n",
    "test_LR_h = roc_auc_score(y_test,PredTest[:, 1])\n",
    "train_LR_h = roc_auc_score(y_train,PredTrain[:, 1])"
   ]
  },
  {
   "cell_type": "code",
   "execution_count": 10,
   "metadata": {},
   "outputs": [
    {
     "name": "stdout",
     "output_type": "stream",
     "text": [
      "Dane testowe: 0.7899867263978761\n",
      "Dane treningowe: 0.8121757682186185\n"
     ]
    }
   ],
   "source": [
    "print('Dane testowe: ' + str(test_LR_h))\n",
    "print('Dane treningowe: ' + str(train_LR_h))"
   ]
  },
  {
   "cell_type": "markdown",
   "metadata": {},
   "source": [
    "Dla danych o małej liczebności"
   ]
  },
  {
   "cell_type": "code",
   "execution_count": 11,
   "metadata": {},
   "outputs": [],
   "source": [
    "LR = LogisticRegression()\n",
    "\n",
    "LR.fit(x_train[['CabinReduced_map', 'sex_map']], y_train['survived'].values)\n",
    "\n",
    "y_pred = LR.predict(x_train[['CabinReduced_map', 'sex_map']])\n",
    "\n",
    "PredTrain = LR.predict_proba(x_train[['CabinReduced_map', 'sex_map']])\n",
    "PredTest = LR.predict_proba(x_test[['CabinReduced_map', 'sex_map']].fillna(0))\n",
    "\n",
    "test_LR_l = roc_auc_score(y_test,PredTest[:, 1])\n",
    "train_LR_l = roc_auc_score(y_train,PredTrain[:, 1])"
   ]
  },
  {
   "cell_type": "code",
   "execution_count": 12,
   "metadata": {},
   "outputs": [
    {
     "name": "stdout",
     "output_type": "stream",
     "text": [
      "Dane testowe: 0.8022648083623694\n",
      "Dane treningowe: 0.8026507127438499\n"
     ]
    }
   ],
   "source": [
    "print('Dane testowe: ' + str(test_LR_l))\n",
    "print('Dane treningowe: ' + str(train_LR_l))"
   ]
  },
  {
   "cell_type": "markdown",
   "metadata": {},
   "source": [
    "<h5>3.3. GradientBoostingClassifier</h5>"
   ]
  },
  {
   "cell_type": "markdown",
   "metadata": {},
   "source": [
    "Dla danych o duzej liczebności"
   ]
  },
  {
   "cell_type": "code",
   "execution_count": 13,
   "metadata": {},
   "outputs": [],
   "source": [
    "GBC = GradientBoostingClassifier()\n",
    "\n",
    "GBC.fit(x_train[['cabin_map', 'sex_map']], y_train['survived'].values)\n",
    "\n",
    "PredTrain = GBC.predict_proba(x_train[['cabin_map', 'sex_map']])\n",
    "PredTest = GBC.predict_proba(x_test[['cabin_map', 'sex_map']].fillna(0))\n",
    "\n",
    "test_GBC_h = roc_auc_score(y_test,PredTest[:, 1])\n",
    "train_GBC_h = roc_auc_score(y_train,PredTrain[:, 1])"
   ]
  },
  {
   "cell_type": "code",
   "execution_count": 14,
   "metadata": {},
   "outputs": [
    {
     "name": "stdout",
     "output_type": "stream",
     "text": [
      "Dane testowe: 0.768140589569161\n",
      "Dane treningowe: 0.8434102013193184\n",
      "Róznica: 0.07526961175015745\n"
     ]
    }
   ],
   "source": [
    "print('Dane testowe: ' + str(test_GBC_h))\n",
    "print('Dane treningowe: ' + str(train_GBC_h))\n",
    "print('Róznica: ' + str(roc_auc_score(y_train,PredTrain[:, 1])-roc_auc_score(y_test,PredTest[:, 1])))"
   ]
  },
  {
   "cell_type": "markdown",
   "metadata": {},
   "source": [
    "Dla danych o małej liczebności"
   ]
  },
  {
   "cell_type": "code",
   "execution_count": 15,
   "metadata": {},
   "outputs": [],
   "source": [
    "GBC = GradientBoostingClassifier()\n",
    "\n",
    "GBC.fit(x_train[['CabinReduced_map', 'sex_map']], y_train['survived'].values)\n",
    "\n",
    "PredTrain = GBC.predict_proba(x_train[['CabinReduced_map', 'sex_map']])\n",
    "PredTest = GBC.predict_proba(x_test[['CabinReduced_map', 'sex_map']].fillna(0))\n",
    "\n",
    "test_GBC_l = roc_auc_score(y_test,PredTest[:, 1])\n",
    "train_GBC_l = roc_auc_score(y_train,PredTrain[:, 1])"
   ]
  },
  {
   "cell_type": "code",
   "execution_count": 16,
   "metadata": {},
   "outputs": [
    {
     "name": "stdout",
     "output_type": "stream",
     "text": [
      "Dane testowe: 0.8011310215142968\n",
      "Dane treningowe: 0.8166942572922274\n"
     ]
    }
   ],
   "source": [
    "print('Dane testowe: ' + str(test_GBC_l))\n",
    "print('Dane treningowe: ' + str(train_GBC_l))"
   ]
  },
  {
   "cell_type": "markdown",
   "metadata": {},
   "source": [
    "<h5>3.4. AdaBoostClassifier</h5>"
   ]
  },
  {
   "cell_type": "markdown",
   "metadata": {},
   "source": [
    "Dla danych o duzej liczebności"
   ]
  },
  {
   "cell_type": "code",
   "execution_count": 17,
   "metadata": {},
   "outputs": [],
   "source": [
    "ABC = AdaBoostClassifier()\n",
    "\n",
    "ABC.fit(x_train[['cabin_map', 'sex_map']], y_train['survived'].values)\n",
    "\n",
    "PredTrain = ABC.predict_proba(x_train[['cabin_map', 'sex_map']])\n",
    "PredTest = ABC.predict_proba(x_test[['cabin_map', 'sex_map']].fillna(0))\n",
    "\n",
    "test_ABC_h = roc_auc_score(y_test,PredTest[:, 1])\n",
    "train_ABC_h = roc_auc_score(y_train,PredTrain[:, 1])"
   ]
  },
  {
   "cell_type": "code",
   "execution_count": 18,
   "metadata": {},
   "outputs": [
    {
     "name": "stdout",
     "output_type": "stream",
     "text": [
      "Dane testowe: 0.785824899065317\n",
      "Dane treningowe: 0.8263778121053241\n",
      "Róznica: 0.04055291304000708\n"
     ]
    }
   ],
   "source": [
    "print('Dane testowe: ' + str(test_ABC_h))\n",
    "print('Dane treningowe: ' + str(train_ABC_h))\n",
    "print('Róznica: ' + str(roc_auc_score(y_train,PredTrain[:, 1])-roc_auc_score(y_test,PredTest[:, 1])))"
   ]
  },
  {
   "cell_type": "markdown",
   "metadata": {},
   "source": [
    "Dla danych o małej liczebności"
   ]
  },
  {
   "cell_type": "code",
   "execution_count": 19,
   "metadata": {},
   "outputs": [],
   "source": [
    "ABC = GradientBoostingClassifier()\n",
    "\n",
    "ABC.fit(x_train[['CabinReduced_map', 'sex_map']], y_train['survived'].values)\n",
    "\n",
    "PredTrain = ABC.predict_proba(x_train[['CabinReduced_map', 'sex_map']])\n",
    "PredTest = ABC.predict_proba(x_test[['CabinReduced_map', 'sex_map']].fillna(0))\n",
    "test_ABC_l = roc_auc_score(y_test,PredTest[:, 1])\n",
    "train_ABC_l = roc_auc_score(y_train,PredTrain[:, 1])"
   ]
  },
  {
   "cell_type": "code",
   "execution_count": 20,
   "metadata": {},
   "outputs": [
    {
     "name": "stdout",
     "output_type": "stream",
     "text": [
      "Dane testowe: 0.8011310215142968\n",
      "Dane treningowe: 0.8166942572922274\n",
      "Róznica: 0.015563235777930617\n"
     ]
    }
   ],
   "source": [
    "print('Dane testowe: ' + str(test_ABC_l))\n",
    "print('Dane treningowe: ' + str(train_ABC_l))\n",
    "print('Róznica: ' + str(roc_auc_score(y_train,PredTrain[:, 1])-roc_auc_score(y_test,PredTest[:, 1])))"
   ]
  },
  {
   "cell_type": "markdown",
   "metadata": {},
   "source": [
    "***\n",
    "<h4>4. Odpowiedz jak różnią się wyniki dla danych z dużą liczebnością i niską\n",
    "liczebnością cech. Gdzie widoczne jest zbyt duże dopasowanie?\n",
    "Dlaczego?</h4>"
   ]
  },
  {
   "cell_type": "markdown",
   "metadata": {},
   "source": [
    "<h5>4.1. RandomForestClassifier</h5>\n",
    "Dla dancyh o duzej liczebnośći wysoka tendencja do overfittingu - widoczne zbyt duze dopasowanie, natomiast dla danych o małej liczebności wartości oblocznne dla zbioru testowego i treningowego są bardzo zblizone do siebie."
   ]
  },
  {
   "cell_type": "markdown",
   "metadata": {},
   "source": [
    "<h5>4.2. LogisticRegression</h5>\n",
    "Dla danych o duzej liczebności - większa róznica między zbiorem treningowym, a testowym niz dla danych o małej liczebności cech, ale rónice te są na tyle niewielkie, ze nie ma overfittingu.\n"
   ]
  },
  {
   "cell_type": "markdown",
   "metadata": {},
   "source": [
    "<h5>4.3. GradientBoostingClassifier</h5>\n",
    "Dla dancyh o duzej liczebnośći cech widoczna tenedencja do overfittingu - rónica dla danych treningowych i testowych wynosi 0.075. Dla danych o małej liczebności cech, wartości dla roc_auc_score są bardzo zblione do siebie."
   ]
  },
  {
   "cell_type": "markdown",
   "metadata": {},
   "source": [
    "<h5>4.4. AdaBoostClassifier</h5>\n",
    "Dla dancyh o duzej liczebnośći cech widoczna niewielka tenedencja do overfittingu - rónica dla danych treningowych i testowych wynosi 0.041. Dla danych o małej liczebności cech, wartości dla roc_auc_score są do siebie zblione."
   ]
  },
  {
   "cell_type": "markdown",
   "metadata": {},
   "source": [
    "***\n",
    "<h4>8. Porównaj w/w algorytmy pomiędzy sobą w oparciu o przeprowadzone\n",
    "badania. Które z nich mają największą tendencję do nadmiernego\n",
    "dopasowania?</h5>"
   ]
  },
  {
   "cell_type": "code",
   "execution_count": 21,
   "metadata": {},
   "outputs": [
    {
     "data": {
      "image/png": "[encoded data removed]",
      "text/plain": [
       "<Figure size 1080x432 with 1 Axes>"
      ]
     },
     "metadata": {
      "needs_background": "light"
     },
     "output_type": "display_data"
    }
   ],
   "source": [
    "barWidth = 0.2\n",
    "fig = plt.subplots(figsize =(15, 6))\n",
    "\n",
    "test_h = [test_RF_h, test_LR_h, test_GBC_h, test_ABC_h]\n",
    "train_h = [train_RF_h, train_LR_h, train_GBC_h, train_ABC_h]\n",
    "test_l = [test_RF_l, test_LR_l, test_GBC_l, test_ABC_l]\n",
    "train_l = [train_RF_l, train_LR_l, train_GBC_l, train_ABC_l]\n",
    "\n",
    "br1 = np.arange(len(test_h))\n",
    "br2 = [x + barWidth for x in br1]\n",
    "br3 = [x + barWidth for x in br2]\n",
    "br4 = [x + barWidth for x in br3]\n",
    "\n",
    "bar1 = plt.bar(br1, test_h, color ='r', width = barWidth,\n",
    "\t\tedgecolor ='grey', alpha=0.3, label ='test_h')\n",
    "bar2 = plt.bar(br2, train_h, color ='g', width = barWidth,\n",
    "\t\tedgecolor ='grey', alpha=0.3,label ='train_h')\n",
    "bar3 = plt.bar(br3, test_l, color ='b', width = barWidth,\n",
    "\t\tedgecolor ='grey', alpha=0.3,label ='test_l')\n",
    "bar4 = plt.bar(br4, train_l, color ='y', width = barWidth,\n",
    "\t\tedgecolor ='grey',  alpha=0.3, label ='train_l')\n",
    "\n",
    "for rect in bar1 + bar2 + bar3 + bar4:\n",
    "    height = rect.get_height()\n",
    "    plt.text(rect.get_x() + rect.get_width() / 2.0, height, f'{height:.3f}', ha='center', va='bottom')\n",
    "\n",
    "plt.xlabel('Algorytmy', fontsize = 15)\n",
    "plt.ylabel('Wartość dla roc_auc_score', fontsize = 15)\n",
    "plt.xticks([r + barWidth for r in range(len(test_h))],\n",
    "\t\t['RF', 'LR', 'GBC', 'ABC'])\n",
    "\n",
    "\n",
    "plt.legend()\n",
    "plt.show()\n"
   ]
  },
  {
   "cell_type": "markdown",
   "metadata": {},
   "source": [
    "Algorytmy, które będą miały tendencję do overfittingu to te dla których będzie duza róznica w wysokości słupków dla odpowiednich danych testowych i treningowych (odpowiednio dla danych z duzua liczbą cech i oddzielnie dla tych z małą liczbą cech).\n",
    "Na podstawie otrzymanych wartości i wykresu powyzej, największą tendencję do nadmiernego dopasowania ma algorytm RandomForestClassifier, następnie\n",
    "GradientBoostingClassifier, AdaBoostClassifier. Najmniejsza róznica wysokości słupków dla LogisticRegression. Powyzsze spostrzezenia dotyczą danych o duzej liczebności cech. Dla danych o zredukowanej liczbie cech skłonności powyzszych algorytmow do overfittingu są nieporównywalnie mniejsze, co pozwala wysunąć wnioski, ze zmniejszenie liczebności cech chroni przed overfittingiem.\n"
   ]
  },
  {
   "cell_type": "markdown",
   "metadata": {},
   "source": [
    "***\n",
    "<h4>9. Jaka jest różnica pomiędzy predict_proba a predict?</h4>"
   ]
  },
  {
   "cell_type": "markdown",
   "metadata": {},
   "source": [
    "* <strong>predict()</strong> - wynikiem jest dopasowanie do konkretnej klasy <br><br>\n",
    "* <strong>predict_proba()</strong> - wynikiem jest prawdopodobieństwo z jakim przewidywana wartość zostanie przydzielona do danej klasy"
   ]
  }
 ],
 "metadata": {
  "interpreter": {
   "hash": "a49601c60bf0c9c10cf8e4e7133b68894de4045423f248186ca06107f46659e3"
  },
  "kernelspec": {
   "display_name": "Python 3.9.7 ('base')",
   "language": "python",
   "name": "python3"
  },
  "language_info": {
   "codemirror_mode": {
    "name": "ipython",
    "version": 3
   },
   "file_extension": ".py",
   "mimetype": "text/x-python",
   "name": "python",
   "nbconvert_exporter": "python",
   "pygments_lexer": "ipython3",
   "version": "3.9.7"
  },
  "orig_nbformat": 4
 },
 "nbformat": 4,
 "nbformat_minor": 2
}
